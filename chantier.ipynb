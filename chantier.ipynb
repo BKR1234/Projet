{
 "cells": [
  {
   "cell_type": "code",
   "execution_count": 1,
   "metadata": {},
   "outputs": [],
   "source": [
    "import numpy as np\n",
    "import scipy.stats as stat\n",
    "import pandas as pd\n",
    "import matplotlib.pyplot as plt\n",
    "import matplotlib.patches as patches\n",
    "\n",
    "import pandas as pd\n",
    "from fanalysis.pca import PCA\n",
    "%matplotlib inline"
   ]
  },
  {
   "cell_type": "code",
   "execution_count": 2,
   "metadata": {},
   "outputs": [
    {
     "name": "stdout",
     "output_type": "stream",
     "text": [
      "                  CYL  PUISS  LONG  LARG  POIDS  V-MAX FINITION   PRIX\n",
      "Modele                                                                \n",
      "Alfasud-TI       1350     79   393   161    870    165        B  30570\n",
      "Audi-100         1588     85   468   177   1110    160       TB  39990\n",
      "Simca-1300       1294     68   424   168   1050    152        M  29600\n",
      "Citroen-GS-Club  1222     59   412   161    930    151        M  28250\n",
      "Fiat-132         1585     98   439   164   1105    165        B  34900\n",
      "Lancia-Beta      1297     82   429   169   1080    160       TB  35480\n",
      "Peugeot-504      1796     79   449   169   1160    154        B  32300\n",
      "Renault-16-TL    1565     55   424   163   1010    140        B  32000\n",
      "Renault-30       2664    128   452   173   1320    180       TB  47700\n",
      "Toyota-Corolla   1166     55   399   157    815    140        M  26540\n",
      "Alfetta-1.66     1570    109   428   162   1060    175       TB  42395\n",
      "Princess-1800    1798     82   445   172   1160    158        B  33990\n",
      "Datsun-200L      1998    115   469   169   1370    160       TB  43980\n",
      "Taunus-2000      1993     98   438   170   1080    167        B  35010\n",
      "Rancho           1442     80   431   166   1129    144       TB  39450\n",
      "Mazda-9295       1769     83   440   165   1095    165        M  27900\n",
      "Opel-Rekord      1979    100   459   173   1120    173        B  32700\n",
      "Lada-1300        1294     68   404   161    955    140        M  22100\n"
     ]
    }
   ],
   "source": [
    "df = pd.read_table(\"fanalysis/tests/pca_data.txt\", header=0, index_col=0, delimiter=\"\\t\", encoding=\"utf-8\")\n",
    "print(df)"
   ]
  },
  {
   "cell_type": "code",
   "execution_count": 7,
   "metadata": {},
   "outputs": [
    {
     "name": "stdout",
     "output_type": "stream",
     "text": [
      "[[1350   79  393  161  870  165]\n",
      " [1588   85  468  177 1110  160]\n",
      " [1294   68  424  168 1050  152]\n",
      " [1222   59  412  161  930  151]\n",
      " [1585   98  439  164 1105  165]\n",
      " [1297   82  429  169 1080  160]\n",
      " [1796   79  449  169 1160  154]\n",
      " [1565   55  424  163 1010  140]\n",
      " [2664  128  452  173 1320  180]\n",
      " [1166   55  399  157  815  140]\n",
      " [1570  109  428  162 1060  175]\n",
      " [1798   82  445  172 1160  158]\n",
      " [1998  115  469  169 1370  160]\n",
      " [1993   98  438  170 1080  167]\n",
      " [1442   80  431  166 1129  144]\n",
      " [1769   83  440  165 1095  165]\n",
      " [1979  100  459  173 1120  173]\n",
      " [1294   68  404  161  955  140]]\n",
      "[[30570]\n",
      " [39990]\n",
      " [29600]\n",
      " [28250]\n",
      " [34900]\n",
      " [35480]\n",
      " [32300]\n",
      " [32000]\n",
      " [47700]\n",
      " [26540]\n",
      " [42395]\n",
      " [33990]\n",
      " [43980]\n",
      " [35010]\n",
      " [39450]\n",
      " [27900]\n",
      " [32700]\n",
      " [22100]]\n"
     ]
    }
   ],
   "source": [
    "X = df.iloc[:,0:6].values\n",
    "print(X)\n",
    "Y = df.iloc[:,7:8].values\n",
    "print(Y)"
   ]
  },
  {
   "cell_type": "code",
   "execution_count": 5,
   "metadata": {},
   "outputs": [
    {
     "name": "stdout",
     "output_type": "stream",
     "text": [
      "[[-0.23977601 -0.45489896 -0.22067967 -0.10290372  0.23316757 -0.06108363]\n",
      " [ 0.17504146  0.38901071 -0.50755864  0.10770636 -0.11491073  0.3707088 ]\n",
      " [-0.12548449  0.17182895 -0.17619576  0.08542341  0.29042869 -0.30790958]\n",
      " [-0.28851967 -0.02875703 -0.05733257  0.00883824 -0.17552212 -0.29847642]\n",
      " [ 0.0479631  -0.1771945   0.07458827  0.31990848 -0.20388078  0.04208801]\n",
      " [-0.03410542  0.04996854 -0.26079009  0.28331197  0.34437435 -0.22666202]\n",
      " [ 0.07666924  0.2376945   0.09910714 -0.10351879 -0.16143911 -0.17433474]\n",
      " [-0.21842846  0.24976734  0.23909179 -0.32121546 -0.22682934 -0.12307377]\n",
      " [ 0.49433677 -0.2709586   0.22904055 -0.43176395  0.29006171 -0.04984108]\n",
      " [-0.4468112  -0.06018181  0.11697811 -0.13510809 -0.2154272   0.37258201]\n",
      " [ 0.04906203 -0.48719266 -0.00962512  0.38674655 -0.13006532  0.06144609]\n",
      " [ 0.11413873  0.21442461 -0.08358913 -0.15462842  0.14304311 -0.20945483]\n",
      " [ 0.32969878  0.1424487   0.48005071  0.39350428 -0.04210005  0.06486943]\n",
      " [ 0.14739974 -0.1239407  -0.10906262 -0.29670694  0.05163432  0.28671248]\n",
      " [-0.07747445  0.22869288  0.24250004  0.18230535  0.29176101  0.13767582]\n",
      " [ 0.04323845 -0.09073737  0.02916721 -0.05243834 -0.40778663 -0.38384239]\n",
      " [ 0.25668589 -0.02658161 -0.30732173 -0.12044448 -0.26187601  0.17749459]\n",
      " [-0.30363449  0.036607    0.22163152 -0.04901644  0.29536653  0.32110122]]\n"
     ]
    }
   ],
   "source": [
    "import numpy as np\n",
    "means_ = np.mean(X, axis=0).reshape(1, -1)\n",
    "std_ = np.std(X, axis=0, ddof=0).reshape(1, -1)\n",
    "Z = (X - means_) / std_\n",
    "U, lambdas, V = np.linalg.svd(Z, full_matrices=False)\n",
    "print(U)"
   ]
  },
  {
   "cell_type": "code",
   "execution_count": 6,
   "metadata": {},
   "outputs": [
    {
     "name": "stdout",
     "output_type": "stream",
     "text": [
      "[[ 0.89346354 -0.1149061   0.21598347 -0.37361508 -0.04617627  0.01225391]\n",
      " [ 0.88685803 -0.38468911  0.11294784  0.16548492  0.08948124  0.13171084]\n",
      " [ 0.88615477  0.38102873 -0.04131023  0.12939024 -0.22255537  0.03959265]\n",
      " [ 0.81353638  0.4127359  -0.36944822 -0.09785447  0.14567244  0.0227967 ]\n",
      " [ 0.90518746  0.22453248  0.29586489  0.13954667  0.09277852 -0.12084561]\n",
      " [ 0.75471037 -0.57351941 -0.29652226  0.03402937 -0.05747056 -0.09540146]]\n"
     ]
    }
   ],
   "source": [
    "eigen_values = lambdas ** 2 / Z.shape[0]\n",
    "\n",
    "col_coord = V.T.dot(np.diag(eigen_values**(0.5)))\n",
    "ss_col_coord_ = (np.sum(col_coord ** 2, axis=1)).reshape(-1, 1)\n",
    "\n",
    "print(col_coord)"
   ]
  },
  {
   "cell_type": "code",
   "execution_count": 7,
   "metadata": {},
   "outputs": [
    {
     "name": "stdout",
     "output_type": "stream",
     "text": [
      "[[ 0.89346354 -0.1149061   0.21598347 -0.37361508 -0.04617627  0.01225391]\n",
      " [ 0.88685803 -0.38468911  0.11294784  0.16548492  0.08948124  0.13171084]\n",
      " [ 0.88615477  0.38102873 -0.04131023  0.12939024 -0.22255537  0.03959265]\n",
      " [ 0.81353638  0.4127359  -0.36944822 -0.09785447  0.14567244  0.0227967 ]\n",
      " [ 0.90518746  0.22453248  0.29586489  0.13954667  0.09277852 -0.12084561]\n",
      " [ 0.75471037 -0.57351941 -0.29652226  0.03402937 -0.05747056 -0.09540146]]\n"
     ]
    }
   ],
   "source": [
    "eigen_vectors_ = V.T[:, :]\n",
    "col_coord_ = eigen_values **0.5 * eigen_vectors_\n",
    "print(col_coord_)\n"
   ]
  },
  {
   "cell_type": "code",
   "execution_count": 20,
   "metadata": {},
   "outputs": [
    {
     "name": "stdout",
     "output_type": "stream",
     "text": [
      "0.25727510060195763\n"
     ]
    }
   ],
   "source": [
    "means_ = np.mean(X, axis=0).reshape(1, -1)\n",
    "std_ = np.std(X, axis=0, ddof=0).reshape(1, -1)\n",
    "Z = (X - means_) / std_\n",
    "U, lambdas, V = np.linalg.svd(Z, full_matrices=False)\n",
    "\n",
    "means_sup_ = np.mean(Y, axis=0).reshape(1, -1)\n",
    "std_sup_ = np.std(Y, axis=0, ddof=0).reshape(1, -1)\n",
    "W = (Y - means_sup_) / std_sup_\n",
    "U_, lambdas_, V_ = np.linalg.svd(W, full_matrices=False)\n",
    "\n",
    "\n",
    "\n",
    "coord = 0\n",
    "for i in range(18):\n",
    "    coord += U_[i,0] * sum(U[i,:] * eigen_vectors_[:,0]) / eigen_values[0] ** 0.5\n",
    "\n",
    "print(coord)\n",
    "\n",
    "#a=W[0,0] * sum(Z[0,:] * eigen_vectors_[:,0]) / (eigen_values[0] ** 0.5)\n",
    "#b=W[17,0] * sum(Z[17,:] * eigen_vectors_[:,0]) / (eigen_values[0] ** 0.5)\n",
    "#sum( X * eigen_vectors_ )\n",
    "\n",
    "#sum( Y * sum( X * eigen_vectors_ )) / eigen_values ** 0.5"
   ]
  },
  {
   "cell_type": "code",
   "execution_count": 9,
   "metadata": {},
   "outputs": [
    {
     "name": "stdout",
     "output_type": "stream",
     "text": [
      "[[2.10258366 0.         0.         0.         0.         0.        ]\n",
      " [0.         0.92523634 0.         0.         0.         0.        ]\n",
      " [0.         0.         0.61079135 0.         0.         0.        ]\n",
      " [0.         0.         0.         0.46251712 0.         0.        ]\n",
      " [0.         0.         0.         0.         0.30463291 0.        ]\n",
      " [0.         0.         0.         0.         0.         0.20806315]]\n"
     ]
    }
   ],
   "source": [
    "print(np.diag(eigen_values**(0.5)))"
   ]
  },
  {
   "cell_type": "code",
   "execution_count": 10,
   "metadata": {},
   "outputs": [
    {
     "name": "stdout",
     "output_type": "stream",
     "text": [
      "[[1.]]\n"
     ]
    }
   ],
   "source": [
    "means_sup_ = np.mean(Y, axis=0).reshape(1, -1)\n",
    "std_sup_ = np.std(Y, axis=0, ddof=0).reshape(1, -1)\n",
    "W = (Y - means_sup_) / std_sup_\n",
    "U_, lambdas_, V_ = np.linalg.svd(W, full_matrices=False)\n",
    "\n",
    "eigen_values_ = lambdas_ ** 2 / Y.shape[0]\n",
    "\n",
    "\n",
    "col_coord_sup_ = V_.T.dot(np.diag(eigen_values_**(0.5)))\n",
    "#ss_col_coord_sup_ = (np.sum(col_coord ** 2, axis=1)).reshape(-1, 1)\n",
    "\n",
    "print(col_coord_sup_)"
   ]
  },
  {
   "cell_type": "code",
   "execution_count": 5,
   "metadata": {},
   "outputs": [],
   "source": [
    "my_pca = PCA(std_unit=True, row_labels=df.index.values, col_labels=df.columns.values[0:6])"
   ]
  },
  {
   "cell_type": "code",
   "execution_count": 8,
   "metadata": {},
   "outputs": [
    {
     "data": {
      "text/html": [
       "<style>#sk-container-id-1 {color: black;background-color: white;}#sk-container-id-1 pre{padding: 0;}#sk-container-id-1 div.sk-toggleable {background-color: white;}#sk-container-id-1 label.sk-toggleable__label {cursor: pointer;display: block;width: 100%;margin-bottom: 0;padding: 0.3em;box-sizing: border-box;text-align: center;}#sk-container-id-1 label.sk-toggleable__label-arrow:before {content: \"▸\";float: left;margin-right: 0.25em;color: #696969;}#sk-container-id-1 label.sk-toggleable__label-arrow:hover:before {color: black;}#sk-container-id-1 div.sk-estimator:hover label.sk-toggleable__label-arrow:before {color: black;}#sk-container-id-1 div.sk-toggleable__content {max-height: 0;max-width: 0;overflow: hidden;text-align: left;background-color: #f0f8ff;}#sk-container-id-1 div.sk-toggleable__content pre {margin: 0.2em;color: black;border-radius: 0.25em;background-color: #f0f8ff;}#sk-container-id-1 input.sk-toggleable__control:checked~div.sk-toggleable__content {max-height: 200px;max-width: 100%;overflow: auto;}#sk-container-id-1 input.sk-toggleable__control:checked~label.sk-toggleable__label-arrow:before {content: \"▾\";}#sk-container-id-1 div.sk-estimator input.sk-toggleable__control:checked~label.sk-toggleable__label {background-color: #d4ebff;}#sk-container-id-1 div.sk-label input.sk-toggleable__control:checked~label.sk-toggleable__label {background-color: #d4ebff;}#sk-container-id-1 input.sk-hidden--visually {border: 0;clip: rect(1px 1px 1px 1px);clip: rect(1px, 1px, 1px, 1px);height: 1px;margin: -1px;overflow: hidden;padding: 0;position: absolute;width: 1px;}#sk-container-id-1 div.sk-estimator {font-family: monospace;background-color: #f0f8ff;border: 1px dotted black;border-radius: 0.25em;box-sizing: border-box;margin-bottom: 0.5em;}#sk-container-id-1 div.sk-estimator:hover {background-color: #d4ebff;}#sk-container-id-1 div.sk-parallel-item::after {content: \"\";width: 100%;border-bottom: 1px solid gray;flex-grow: 1;}#sk-container-id-1 div.sk-label:hover label.sk-toggleable__label {background-color: #d4ebff;}#sk-container-id-1 div.sk-serial::before {content: \"\";position: absolute;border-left: 1px solid gray;box-sizing: border-box;top: 0;bottom: 0;left: 50%;z-index: 0;}#sk-container-id-1 div.sk-serial {display: flex;flex-direction: column;align-items: center;background-color: white;padding-right: 0.2em;padding-left: 0.2em;position: relative;}#sk-container-id-1 div.sk-item {position: relative;z-index: 1;}#sk-container-id-1 div.sk-parallel {display: flex;align-items: stretch;justify-content: center;background-color: white;position: relative;}#sk-container-id-1 div.sk-item::before, #sk-container-id-1 div.sk-parallel-item::before {content: \"\";position: absolute;border-left: 1px solid gray;box-sizing: border-box;top: 0;bottom: 0;left: 50%;z-index: -1;}#sk-container-id-1 div.sk-parallel-item {display: flex;flex-direction: column;z-index: 1;position: relative;background-color: white;}#sk-container-id-1 div.sk-parallel-item:first-child::after {align-self: flex-end;width: 50%;}#sk-container-id-1 div.sk-parallel-item:last-child::after {align-self: flex-start;width: 50%;}#sk-container-id-1 div.sk-parallel-item:only-child::after {width: 0;}#sk-container-id-1 div.sk-dashed-wrapped {border: 1px dashed gray;margin: 0 0.4em 0.5em 0.4em;box-sizing: border-box;padding-bottom: 0.4em;background-color: white;}#sk-container-id-1 div.sk-label label {font-family: monospace;font-weight: bold;display: inline-block;line-height: 1.2em;}#sk-container-id-1 div.sk-label-container {text-align: center;}#sk-container-id-1 div.sk-container {/* jupyter's `normalize.less` sets `[hidden] { display: none; }` but bootstrap.min.css set `[hidden] { display: none !important; }` so we also need the `!important` here to be able to override the default hidden behavior on the sphinx rendered scikit-learn.org. See: https://github.com/scikit-learn/scikit-learn/issues/21755 */display: inline-block !important;position: relative;}#sk-container-id-1 div.sk-text-repr-fallback {display: none;}</style><div id=\"sk-container-id-1\" class=\"sk-top-container\"><div class=\"sk-text-repr-fallback\"><pre>PCA(col_labels=array([&#x27;CYL&#x27;, &#x27;PUISS&#x27;, &#x27;LONG&#x27;, &#x27;LARG&#x27;, &#x27;POIDS&#x27;, &#x27;V-MAX&#x27;], dtype=object),\n",
       "    row_labels=array([&#x27;Alfasud-TI&#x27;, &#x27;Audi-100&#x27;, &#x27;Simca-1300&#x27;, &#x27;Citroen-GS-Club&#x27;,\n",
       "       &#x27;Fiat-132&#x27;, &#x27;Lancia-Beta&#x27;, &#x27;Peugeot-504&#x27;, &#x27;Renault-16-TL&#x27;,\n",
       "       &#x27;Renault-30&#x27;, &#x27;Toyota-Corolla&#x27;, &#x27;Alfetta-1.66&#x27;, &#x27;Princess-1800&#x27;,\n",
       "       &#x27;Datsun-200L&#x27;, &#x27;Taunus-2000&#x27;, &#x27;Rancho&#x27;, &#x27;Mazda-9295&#x27;,\n",
       "       &#x27;Opel-Rekord&#x27;, &#x27;Lada-1300&#x27;], dtype=object))</pre><b>In a Jupyter environment, please rerun this cell to show the HTML representation or trust the notebook. <br />On GitHub, the HTML representation is unable to render, please try loading this page with nbviewer.org.</b></div><div class=\"sk-container\" hidden><div class=\"sk-item\"><div class=\"sk-estimator sk-toggleable\"><input class=\"sk-toggleable__control sk-hidden--visually\" id=\"sk-estimator-id-1\" type=\"checkbox\" checked><label for=\"sk-estimator-id-1\" class=\"sk-toggleable__label sk-toggleable__label-arrow\">PCA</label><div class=\"sk-toggleable__content\"><pre>PCA(col_labels=array([&#x27;CYL&#x27;, &#x27;PUISS&#x27;, &#x27;LONG&#x27;, &#x27;LARG&#x27;, &#x27;POIDS&#x27;, &#x27;V-MAX&#x27;], dtype=object),\n",
       "    row_labels=array([&#x27;Alfasud-TI&#x27;, &#x27;Audi-100&#x27;, &#x27;Simca-1300&#x27;, &#x27;Citroen-GS-Club&#x27;,\n",
       "       &#x27;Fiat-132&#x27;, &#x27;Lancia-Beta&#x27;, &#x27;Peugeot-504&#x27;, &#x27;Renault-16-TL&#x27;,\n",
       "       &#x27;Renault-30&#x27;, &#x27;Toyota-Corolla&#x27;, &#x27;Alfetta-1.66&#x27;, &#x27;Princess-1800&#x27;,\n",
       "       &#x27;Datsun-200L&#x27;, &#x27;Taunus-2000&#x27;, &#x27;Rancho&#x27;, &#x27;Mazda-9295&#x27;,\n",
       "       &#x27;Opel-Rekord&#x27;, &#x27;Lada-1300&#x27;], dtype=object))</pre></div></div></div></div></div>"
      ],
      "text/plain": [
       "PCA(col_labels=array(['CYL', 'PUISS', 'LONG', 'LARG', 'POIDS', 'V-MAX'], dtype=object),\n",
       "    row_labels=array(['Alfasud-TI', 'Audi-100', 'Simca-1300', 'Citroen-GS-Club',\n",
       "       'Fiat-132', 'Lancia-Beta', 'Peugeot-504', 'Renault-16-TL',\n",
       "       'Renault-30', 'Toyota-Corolla', 'Alfetta-1.66', 'Princess-1800',\n",
       "       'Datsun-200L', 'Taunus-2000', 'Rancho', 'Mazda-9295',\n",
       "       'Opel-Rekord', 'Lada-1300'], dtype=object))"
      ]
     },
     "execution_count": 8,
     "metadata": {},
     "output_type": "execute_result"
    }
   ],
   "source": [
    "my_pca.fit(X)"
   ]
  },
  {
   "cell_type": "code",
   "execution_count": 13,
   "metadata": {},
   "outputs": [
    {
     "name": "stdout",
     "output_type": "stream",
     "text": [
      "                                          Comp 1     Comp 2     Comp 3  \\\n",
      "Eigenvalue                              4.420858   0.856062   0.373066   \n",
      "Percentage of variance (%)             73.680968  14.267705   6.217768   \n",
      "Cumulative percentage of variance (%)  73.680968  87.948672  94.166440   \n",
      "\n",
      "                                          Comp 4     Comp 5      Comp 6  \n",
      "Eigenvalue                              0.213922   0.092801    0.043290  \n",
      "Percentage of variance (%)              3.565368   1.546687    0.721505  \n",
      "Cumulative percentage of variance (%)  97.731809  99.278495  100.000000  \n"
     ]
    }
   ],
   "source": [
    "L = [ 'Comp ' + str(i+1) for i in range(len(my_pca.eig_[0]))]\n",
    "a=pd.DataFrame(my_pca.eig_, index = ['Eigenvalue','Percentage of variance (%)','Cumulative percentage of variance (%)'], columns=L)\n",
    "print(a)\n"
   ]
  },
  {
   "cell_type": "code",
   "execution_count": 10,
   "metadata": {},
   "outputs": [
    {
     "data": {
      "text/html": [
       "<div>\n",
       "<style scoped>\n",
       "    .dataframe tbody tr th:only-of-type {\n",
       "        vertical-align: middle;\n",
       "    }\n",
       "\n",
       "    .dataframe tbody tr th {\n",
       "        vertical-align: top;\n",
       "    }\n",
       "\n",
       "    .dataframe thead th {\n",
       "        text-align: right;\n",
       "    }\n",
       "</style>\n",
       "<table border=\"1\" class=\"dataframe\">\n",
       "  <thead>\n",
       "    <tr style=\"text-align: right;\">\n",
       "      <th></th>\n",
       "      <th>Comp 1</th>\n",
       "      <th>Comp 2</th>\n",
       "      <th>Comp 3</th>\n",
       "      <th>Comp 4</th>\n",
       "      <th>Comp 5</th>\n",
       "      <th>Comp 6</th>\n",
       "    </tr>\n",
       "  </thead>\n",
       "  <tbody>\n",
       "    <tr>\n",
       "      <th>Var 1</th>\n",
       "      <td>0.424936</td>\n",
       "      <td>-0.124191</td>\n",
       "      <td>0.353613</td>\n",
       "      <td>-0.807786</td>\n",
       "      <td>-0.151580</td>\n",
       "      <td>0.058895</td>\n",
       "    </tr>\n",
       "    <tr>\n",
       "      <th>Var 2</th>\n",
       "      <td>0.421794</td>\n",
       "      <td>-0.415774</td>\n",
       "      <td>0.184920</td>\n",
       "      <td>0.357792</td>\n",
       "      <td>0.293735</td>\n",
       "      <td>0.633033</td>\n",
       "    </tr>\n",
       "    <tr>\n",
       "      <th>Var 3</th>\n",
       "      <td>0.421460</td>\n",
       "      <td>0.411818</td>\n",
       "      <td>-0.067634</td>\n",
       "      <td>0.279752</td>\n",
       "      <td>-0.730569</td>\n",
       "      <td>0.190292</td>\n",
       "    </tr>\n",
       "    <tr>\n",
       "      <th>Var 4</th>\n",
       "      <td>0.386922</td>\n",
       "      <td>0.446087</td>\n",
       "      <td>-0.604868</td>\n",
       "      <td>-0.211569</td>\n",
       "      <td>0.478190</td>\n",
       "      <td>0.109566</td>\n",
       "    </tr>\n",
       "    <tr>\n",
       "      <th>Var 5</th>\n",
       "      <td>0.430512</td>\n",
       "      <td>0.242676</td>\n",
       "      <td>0.484396</td>\n",
       "      <td>0.301711</td>\n",
       "      <td>0.304558</td>\n",
       "      <td>-0.580812</td>\n",
       "    </tr>\n",
       "    <tr>\n",
       "      <th>Var 6</th>\n",
       "      <td>0.358944</td>\n",
       "      <td>-0.619863</td>\n",
       "      <td>-0.485472</td>\n",
       "      <td>0.073574</td>\n",
       "      <td>-0.188655</td>\n",
       "      <td>-0.458522</td>\n",
       "    </tr>\n",
       "  </tbody>\n",
       "</table>\n",
       "</div>"
      ],
      "text/plain": [
       "         Comp 1    Comp 2    Comp 3    Comp 4    Comp 5    Comp 6\n",
       "Var 1  0.424936 -0.124191  0.353613 -0.807786 -0.151580  0.058895\n",
       "Var 2  0.421794 -0.415774  0.184920  0.357792  0.293735  0.633033\n",
       "Var 3  0.421460  0.411818 -0.067634  0.279752 -0.730569  0.190292\n",
       "Var 4  0.386922  0.446087 -0.604868 -0.211569  0.478190  0.109566\n",
       "Var 5  0.430512  0.242676  0.484396  0.301711  0.304558 -0.580812\n",
       "Var 6  0.358944 -0.619863 -0.485472  0.073574 -0.188655 -0.458522"
      ]
     },
     "execution_count": 10,
     "metadata": {},
     "output_type": "execute_result"
    }
   ],
   "source": [
    "V= ['Var ' + str(i+1) for i in range(len(my_pca.eigen_vectors_[:,0]))]\n",
    "b=pd.DataFrame(my_pca.eigen_vectors_, columns=L, index=V)\n",
    "b"
   ]
  },
  {
   "cell_type": "code",
   "execution_count": 16,
   "metadata": {},
   "outputs": [
    {
     "data": {
      "image/png": "[encoded data removed]",
      "text/plain": [
       "<Figure size 640x480 with 1 Axes>"
      ]
     },
     "metadata": {},
     "output_type": "display_data"
    }
   ],
   "source": [
    "my_pca.plot_eigenvalues()"
   ]
  },
  {
   "cell_type": "code",
   "execution_count": 12,
   "metadata": {},
   "outputs": [
    {
     "data": {
      "text/plain": [
       "<matplotlib.lines.Line2D at 0x7f68c89a4d00>"
      ]
     },
     "execution_count": 12,
     "metadata": {},
     "output_type": "execute_result"
    },
    {
     "data": {
      "image/png": "[encoded data removed]",
      "text/plain": [
       "<Figure size 640x480 with 1 Axes>"
      ]
     },
     "metadata": {},
     "output_type": "display_data"
    }
   ],
   "source": [
    "plt.bar(np.arange(1, my_pca.eig_[0].shape[0] + 1), my_pca.eig_[0], color=\"steelblue\", align=\"center\")\n",
    "plt.xlabel(\"Axis\")\n",
    "plt.ylabel(\"Eigenvalue\")\n",
    "plt.axhline(y=1, color = \"lightgrey\", ls=\"--\")"
   ]
  },
  {
   "cell_type": "code",
   "execution_count": 81,
   "metadata": {},
   "outputs": [
    {
     "data": {
      "text/plain": [
       "Text(73.68096766014816, 1, '73.68096766014816')"
      ]
     },
     "execution_count": 81,
     "metadata": {},
     "output_type": "execute_result"
    },
    {
     "data": {
      "image/png": "[encoded data removed]",
      "text/plain": [
       "<Figure size 640x480 with 1 Axes>"
      ]
     },
     "metadata": {},
     "output_type": "display_data"
    }
   ],
   "source": [
    "plt.bar(np.arange(1, my_pca.eig_[1].shape[0] + 1), my_pca.eig_[1], color=\"steelblue\", align=\"center\")\n",
    "plt.xlabel(\"Axis\")\n",
    "plt.ylabel(\"Percentage of variance\")\n",
    "plt.scatter(np.arange(1, my_pca.eig_[1].shape[0] + 1), my_pca.eig_[1], color=\"black\", linewidths=3)\n",
    "plt.plot(np.arange(1, my_pca.eig_[1].shape[0] + 1), my_pca.eig_[1], color=\"black\")\n",
    "\n",
    "#for i in enumerate(np.arange(1, my_pca.eig_[1].shape[0] + 1)):\n",
    "#plt.annotate(text = my_pca.eig_[1][0] , xy = (my_pca.eig_[1][0],np.arange(1, my_pca.eig_[1].shape[0] + 1)[0]))\n"
   ]
  },
  {
   "cell_type": "code",
   "execution_count": 8,
   "metadata": {},
   "outputs": [
    {
     "name": "stdout",
     "output_type": "stream",
     "text": [
      "[[4.42085806e+00 8.56062289e-01 3.73066077e-01 2.13922089e-01\n",
      "  9.28012120e-02 4.32902727e-02]\n",
      " [7.36809677e+01 1.42677048e+01 6.21776796e+00 3.56536815e+00\n",
      "  1.54668687e+00 7.21504545e-01]\n",
      " [7.36809677e+01 8.79486725e+01 9.41664404e+01 9.77318086e+01\n",
      "  9.92784955e+01 1.00000000e+02]]\n",
      "[[ 0.42493602 -0.12419108  0.35361252 -0.80778648 -0.15158003  0.05889517]\n",
      " [ 0.42179441 -0.41577389  0.18492049  0.35779199  0.29373465  0.63303302]\n",
      " [ 0.42145993  0.41181773 -0.06763394  0.27975231 -0.73056903  0.19029153]\n",
      " [ 0.38692224  0.446087   -0.60486812 -0.21156941  0.47819008  0.10956624]\n",
      " [ 0.43051198  0.24267581  0.48439601  0.30171136  0.30455842 -0.5808122 ]\n",
      " [ 0.35894427 -0.6198626  -0.48547226  0.0735743  -0.18865511 -0.45852167]]\n"
     ]
    }
   ],
   "source": [
    "print(my_pca.eig_)\n",
    "print(my_pca.eigen_vectors_)"
   ]
  }
 ],
 "metadata": {
  "kernelspec": {
   "display_name": "Python 3",
   "language": "python",
   "name": "python3"
  },
  "language_info": {
   "codemirror_mode": {
    "name": "ipython",
    "version": 3
   },
   "file_extension": ".py",
   "mimetype": "text/x-python",
   "name": "python",
   "nbconvert_exporter": "python",
   "pygments_lexer": "ipython3",
   "version": "3.10.4"
  },
  "orig_nbformat": 4
 },
 "nbformat": 4,
 "nbformat_minor": 2
}
